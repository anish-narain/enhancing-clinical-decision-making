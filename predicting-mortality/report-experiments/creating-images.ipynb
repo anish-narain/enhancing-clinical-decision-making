{
 "cells": [
  {
   "cell_type": "markdown",
   "metadata": {},
   "source": [
    "# Creating Images for Report"
   ]
  },
  {
   "cell_type": "code",
   "execution_count": 8,
   "metadata": {},
   "outputs": [],
   "source": [
    "from PIL import Image"
   ]
  },
  {
   "cell_type": "code",
   "execution_count": 9,
   "metadata": {},
   "outputs": [],
   "source": [
    "# Function to create a combined image row without a heading\n",
    "def create_combined_image_row(images, output_filename):\n",
    "    # Load images\n",
    "    imgs = [Image.open(img) for img in images]\n",
    "    \n",
    "    # Find the maximum height of images to ensure uniform row height\n",
    "    max_height = max(img.height for img in imgs)\n",
    "    \n",
    "    # Create a new blank image with the appropriate width and height\n",
    "    total_width = sum(img.width for img in imgs)\n",
    "    combined_img = Image.new('RGB', (total_width, max_height), (255, 255, 255))\n",
    "    \n",
    "    # Paste the images side by side\n",
    "    x_offset = 0\n",
    "    for img in imgs:\n",
    "        combined_img.paste(img, (x_offset, 0))\n",
    "        x_offset += img.width\n",
    "    \n",
    "    # Save the combined image\n",
    "    combined_img.save(output_filename)\n",
    "\n",
    "# Function to create a combined image column without a heading\n",
    "def create_combined_image_column(images, output_filename):\n",
    "    # Load images\n",
    "    imgs = [Image.open(img) for img in images]\n",
    "    \n",
    "    # Find the maximum width of images to ensure uniform column width\n",
    "    max_width = max(img.width for img in imgs)\n",
    "    \n",
    "    # Calculate the total height for the new image\n",
    "    total_height = sum(img.height for img in imgs)\n",
    "    \n",
    "    # Create a new blank image with the appropriate width and height\n",
    "    combined_img = Image.new('RGB', (max_width, total_height), (255, 255, 255))\n",
    "    \n",
    "    # Paste the images one after another vertically\n",
    "    y_offset = 0\n",
    "    for img in imgs:\n",
    "        combined_img.paste(img, (0, y_offset))\n",
    "        y_offset += img.height\n",
    "    \n",
    "    # Save the combined image\n",
    "    combined_img.save(output_filename)"
   ]
  },
  {
   "cell_type": "code",
   "execution_count": 10,
   "metadata": {},
   "outputs": [],
   "source": [
    "non_fine_tuned = ['mort-ind-nft.png', 'mort-seq-nft.png', 'mort-joint-nft.png']\n",
    "early_stopping = ['mort-ind-es.png', 'mort-seq-es.png', 'mort-joint-es.png']\n",
    "l2_regularised = ['mort-ind-l2.png', 'mort-seq-l2.png', 'mort-joint-l2.png']\n",
    "\n",
    "# Define the file path prefix\n",
    "file_path_prefix = 'imgs/'\n",
    "\n",
    "# Define image sets and output filenames with updated paths\n",
    "image_sets = [\n",
    "    ([file_path_prefix + 'mort-ind-nft.png', file_path_prefix + 'mort-seq-nft.png', file_path_prefix + 'mort-joint-nft.png'], \"mort-non-fine-tuned.png\"),\n",
    "    ([file_path_prefix + 'mort-ind-es.png', file_path_prefix + 'mort-seq-es.png', file_path_prefix + 'mort-joint-es.png'], \"mort-early-stopping.png\"),\n",
    "    ([file_path_prefix + 'mort-ind-l2.png', file_path_prefix + 'mort-seq-l2.png', file_path_prefix + 'mort-joint-l2.png'], \"mort-l2-regularised.png\")\n",
    "]\n",
    "\n",
    "# Create and save combined images for each set\n",
    "for images, output_filename in image_sets:\n",
    "    create_combined_image_column(images, output_filename)"
   ]
  }
 ],
 "metadata": {
  "kernelspec": {
   "display_name": "jupyter_env",
   "language": "python",
   "name": "python3"
  },
  "language_info": {
   "codemirror_mode": {
    "name": "ipython",
    "version": 3
   },
   "file_extension": ".py",
   "mimetype": "text/x-python",
   "name": "python",
   "nbconvert_exporter": "python",
   "pygments_lexer": "ipython3",
   "version": "3.1.-1"
  }
 },
 "nbformat": 4,
 "nbformat_minor": 2
}
